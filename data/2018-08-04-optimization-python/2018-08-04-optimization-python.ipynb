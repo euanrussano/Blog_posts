{
 "cells": [
  {
   "cell_type": "markdown",
   "metadata": {},
   "source": [
    "Hello!\n",
    "\n",
    "In the last post I demonstrated how to use MS Excel software and its Solver tool to find the optimal operating point in a process.\n",
    "\n",
    "In this post, we will use the free **Python** programming language to solve the same problem. The use of **Python** in the academic and industrial environment has grown immensely, mainly due to the continuous development of new tools that increase its potential of application in several areas.\n",
    "\n",
    "For this optimization problem, the Numpy and Scipy libraries are used, which contain functions that make Python very similar to Matlab and Scilab for problem solving in engineering, mathematics, physics, and many other areas.\n",
    "\n",
    "I'm not going to present a Python tutorial in this post, just the same application for the same problem solution that was presented in the last post I made. For very basic **Python course for begineers**, please refer to my online course on this link\n",
    "\n",
    "Recalling, the problem is to maximize profit in the solvent extraction process by manipulating some system variables. This problem can be divided into two parts:\n",
    "\n",
    "- the equation to be maximized (profit)\n",
    "\n",
    "- system constraints (mass balances, energy, equilibria, and all conservative equations)\n",
    "\n",
    "First we will import the necessary libraries and define the system variables:"
   ]
  },
  {
   "cell_type": "code",
   "execution_count": 1,
   "metadata": {},
   "outputs": [],
   "source": [
    "import numpy as np\n",
    "import scipy.optimize\n",
    "\n",
    "# Problem variables\n",
    "F = 1.0*10**4    # kg-water / h\n",
    "x0 = 0.02       # kg-solute / kg-water\n",
    "s = 7.0*10**-4   # kg-solvent / kg-water\n",
    "m = 4.0         # kg-water / kg solvent\n",
    "Ps = 0.4        # USD / kg-solute\n",
    "Px = 0.01       # USD / kg-solvent."
   ]
  },
  {
   "cell_type": "markdown",
   "metadata": {},
   "source": [
    " The equation to be maximized can be defined in a function, here called \"problem\" (we use the problem variables as global variables):"
   ]
  },
  {
   "cell_type": "code",
   "execution_count": 7,
   "metadata": {},
   "outputs": [],
   "source": [
    "def problem(x):\n",
    "\n",
    "    W1 = x[0] # mass flow rate\n",
    "    W2 = x[1] # mass flow rate\n",
    "    W_1 = x[2] # mass flow rate\n",
    "    W_2 = x[3] # mass flow rate\n",
    "    x1 = x[4]  # liquid molar composition\n",
    "    y1 = x[5]  # gas molar composition\n",
    "    x2 = x[6]  # liquid molar composition\n",
    "    y2 = x[7]  # gas molar composition\n",
    "\n",
    "    # Income\n",
    "    R = Ps*(W_1*y1+W_2*y2)\n",
    "    \n",
    "    # Cost\n",
    "    C = Px*(W1+W2)\n",
    "    \n",
    "    # Profit (negative for minimization)\n",
    "    L = -(R-C)\n",
    "    \n",
    "    return L"
   ]
  },
  {
   "cell_type": "markdown",
   "metadata": {},
   "source": [
    "This function has as input the manipulated variables of the problem, and the output and the variable L, which constitutes profit. In this case we establish the profit as negative because by default a minimization will be done. For this is worth the relation:\n",
    "\n",
    "max x = -min x\n",
    "\n",
    "Finally, we define constraints of the problem in a function called here cons:"
   ]
  },
  {
   "cell_type": "code",
   "execution_count": 8,
   "metadata": {},
   "outputs": [],
   "source": [
    "def cons(x):\n",
    "\n",
    "    W1 = x[0]\n",
    "    W2 = x[1]\n",
    "    W_1 = x[2]\n",
    "    W_2 = x[3]\n",
    "    x1 = x[4]\n",
    "    y1 = x[5]\n",
    "    x2 = x[6]\n",
    "    y2 = x[7]\n",
    "\n",
    "    cons = np.zeros(6)\n",
    "\n",
    "    # Solute mass balance\n",
    "    cons[0] = F*x0-W_1*y1-F*x1\n",
    "    cons[1] = F*x1-W_2*y2-F*x2\n",
    "\n",
    "    # Solvent mass balance\n",
    "    cons[2] = W1-W_1-s*F\n",
    "    cons[3] = W2+s*F-W_2-s*F\n",
    "\n",
    "    # Equilibrium relations\n",
    "    cons[4] = y1-m*x1\n",
    "    cons[5] = y2-m*x2\n",
    "\n",
    "    return cons"
   ]
  },
  {
   "cell_type": "markdown",
   "metadata": {},
   "source": [
    "Again, the function has as input the manipulated system variables, and as output the cons variable, which has six values, all must be zero. This is determined by creating the following dictionary in Python:\n",
    "\n",
    "cons = [{'type': 'eq', 'fun': constraints}]\n",
    "\n",
    "\n",
    "Now, just set the initial value of the manipulated variables (like zero for all) and call the \"Solver\" function in the scipy.optimize.minimize function as follows:"
   ]
  },
  {
   "cell_type": "code",
   "execution_count": 14,
   "metadata": {},
   "outputs": [
    {
     "name": "stdout",
     "output_type": "stream",
     "text": [
      "Optimization Result \n",
      "\n",
      "W1 = 1190.455\n",
      "W2 = 1184.538\n",
      "W_1 = 1183.455\n",
      "W_2 = 1184.538\n",
      "x1 = 0.014\n",
      "y1 = 0.054\n",
      "x2 = 0.009\n",
      "y2 = 0.037\n"
     ]
    }
   ],
   "source": [
    "xi = np.zeros(8)\n",
    "x = scipy.optimize.minimize(problem, xi, constraints={'type':'eq','fun':cons})\n",
    "\n",
    "\n",
    "print('Optimization Result \\n')\n",
    "print('W1 = {:.3f}'.format(x.x[0]))\n",
    "print('W2 = {:.3f}'.format(x.x[1]))\n",
    "print('W_1 = {:.3f}'.format(x.x[2]))\n",
    "print('W_2 = {:.3f}'.format(x.x[3]))\n",
    "print('x1 = {:.3f}'.format(x.x[4]))\n",
    "print('y1 = {:.3f}'.format(x.x[5]))\n",
    "print('x2 = {:.3f}'.format(x.x[6]))\n",
    "print('y2 = {:.3f}'.format(x.x[7]))"
   ]
  },
  {
   "cell_type": "markdown",
   "metadata": {},
   "source": [
    "You can compare these values with those obtained in Excel and you will see that they are very similar, if not the same. The same principle applied here can be used for the most diverse optimization problems.\n",
    "\n",
    "\n",
    "Until the next post!"
   ]
  }
 ],
 "metadata": {
  "kernelspec": {
   "display_name": "Python 3",
   "language": "python",
   "name": "python3"
  },
  "language_info": {
   "codemirror_mode": {
    "name": "ipython",
    "version": 3
   },
   "file_extension": ".py",
   "mimetype": "text/x-python",
   "name": "python",
   "nbconvert_exporter": "python",
   "pygments_lexer": "ipython3",
   "version": "3.6.1"
  }
 },
 "nbformat": 4,
 "nbformat_minor": 2
}
